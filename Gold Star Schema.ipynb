{
 "cells": [
  {
   "cell_type": "markdown",
   "metadata": {
    "application/vnd.databricks.v1+cell": {
     "cellMetadata": {},
     "inputWidgets": {},
     "nuid": "f3215417-04cc-46bf-a61f-de91f228e63d",
     "showTitle": false,
     "tableResultSettingsMap": {},
     "title": ""
    }
   },
   "source": [
    "## **CUSTOMER Dimension : SCD type 2**"
   ]
  },
  {
   "cell_type": "code",
   "execution_count": 0,
   "metadata": {
    "application/vnd.databricks.v1+cell": {
     "cellMetadata": {},
     "inputWidgets": {},
     "nuid": "a8e03fbb-98ac-4cff-8512-4bbfc8beeb2a",
     "showTitle": false,
     "tableResultSettingsMap": {},
     "title": ""
    }
   },
   "outputs": [],
   "source": [
    "from pyspark.sql.functions import to_date, col"
   ]
  },
  {
   "cell_type": "code",
   "execution_count": 0,
   "metadata": {
    "application/vnd.databricks.v1+cell": {
     "cellMetadata": {},
     "inputWidgets": {},
     "nuid": "2dd63d66-7b4c-4953-b766-a9a9be42b6cc",
     "showTitle": false,
     "tableResultSettingsMap": {},
     "title": ""
    }
   },
   "outputs": [],
   "source": [
    "%sql\n",
    "CREATE TABLE IF NOT EXISTS retail_demo.gold.dim_customer\n",
    "(\n",
    "    customer_sk      BIGINT GENERATED ALWAYS AS IDENTITY,        -- surrogate key\n",
    "    customer_id      INT,\n",
    "    first_name       STRING,\n",
    "    last_name        STRING,\n",
    "    country          STRING,\n",
    "    marital_status   STRING,\n",
    "    loyalty_tier     STRING,\n",
    "    start_ts         DATE,\n",
    "    end_ts           DATE,\n",
    "    is_current       BOOLEAN\n",
    ")\n",
    "USING DELTA\n",
    "PARTITIONED BY (is_current);"
   ]
  },
  {
   "cell_type": "markdown",
   "metadata": {
    "application/vnd.databricks.v1+cell": {
     "cellMetadata": {},
     "inputWidgets": {},
     "nuid": "ecc1bb20-0179-4586-9604-f845798af153",
     "showTitle": false,
     "tableResultSettingsMap": {},
     "title": ""
    }
   },
   "source": [
    "**Merge the latest snapshot**"
   ]
  },
  {
   "cell_type": "code",
   "execution_count": 0,
   "metadata": {
    "application/vnd.databricks.v1+cell": {
     "cellMetadata": {},
     "inputWidgets": {},
     "nuid": "7419cce0-ceea-44dc-bb1c-b62b12a1251f",
     "showTitle": false,
     "tableResultSettingsMap": {},
     "title": ""
    }
   },
   "outputs": [],
   "source": [
    "spark.sql(r\"\"\"\n",
    "MERGE INTO retail_demo.gold.dim_customer AS t\n",
    "USING\n",
    "  (SELECT customer_id, first_name, last_name, country, marital_status, loyalty_tier, snapshot_ts\n",
    "   FROM retail_demo.silver.customers_snapshot) AS s \n",
    "ON t.customer_id = s.customer_id\n",
    "WHEN MATCHED AND t.is_current = true\n",
    "             AND ( t.country <> s.country OR t.marital_status <> s.marital_status OR t.loyalty_tier <> s.loyalty_tier )\n",
    "  THEN UPDATE SET\n",
    "       is_current = false,\n",
    "       end_ts = s.snapshot_ts\n",
    "WHEN NOT MATCHED\n",
    "  THEN INSERT (customer_id, first_name, last_name,\n",
    "               country, marital_status, loyalty_tier,\n",
    "               start_ts,  end_ts, is_current)\n",
    "       VALUES (s.customer_id, s.first_name, s.last_name,\n",
    "               s.country, s.marital_status, s.loyalty_tier,\n",
    "               s.snapshot_ts, DATE '9999-12-31', true)\n",
    "\"\"\")"
   ]
  },
  {
   "cell_type": "markdown",
   "metadata": {
    "application/vnd.databricks.v1+cell": {
     "cellMetadata": {},
     "inputWidgets": {},
     "nuid": "a10e1a2d-1a46-4732-a388-3d74b12abc08",
     "showTitle": false,
     "tableResultSettingsMap": {},
     "title": ""
    }
   },
   "source": [
    "## **PRODUCT Dimension**"
   ]
  },
  {
   "cell_type": "code",
   "execution_count": 0,
   "metadata": {
    "application/vnd.databricks.v1+cell": {
     "cellMetadata": {},
     "inputWidgets": {},
     "nuid": "9195bdc1-1a39-41ed-b1d0-efdf1787bb1d",
     "showTitle": false,
     "tableResultSettingsMap": {},
     "title": ""
    }
   },
   "outputs": [],
   "source": [
    "%sql\n",
    "CREATE OR REPLACE TABLE retail_demo.gold.dim_product\n",
    "USING DELTA AS\n",
    "SELECT\n",
    "    product_id AS natural_key,\n",
    "    monotonically_increasing_id() AS product_sk,\n",
    "    lower(product_name) AS product_name,\n",
    "    size,\n",
    "    unit_price\n",
    "FROM retail_demo.silver.products;"
   ]
  },
  {
   "cell_type": "markdown",
   "metadata": {
    "application/vnd.databricks.v1+cell": {
     "cellMetadata": {},
     "inputWidgets": {},
     "nuid": "a96f3b70-cba8-437c-8445-5a85253ee9ed",
     "showTitle": false,
     "tableResultSettingsMap": {},
     "title": ""
    }
   },
   "source": [
    "## **FACT Table (Orders)**"
   ]
  },
  {
   "cell_type": "code",
   "execution_count": 0,
   "metadata": {
    "application/vnd.databricks.v1+cell": {
     "cellMetadata": {},
     "inputWidgets": {},
     "nuid": "e07efa0a-93e8-469c-a23e-6fd14550043f",
     "showTitle": false,
     "tableResultSettingsMap": {},
     "title": ""
    }
   },
   "outputs": [],
   "source": [
    "from pyspark.sql.functions import to_date, col\n",
    "\n",
    "# create a DataFrame with surrogate keys\n",
    "fact_df = spark\\\n",
    "    .table(\"retail_demo.silver.orders\")\\\n",
    "    .withColumn(\"order_date\", to_date(\"order_ts\"))\\\n",
    "    .alias(\"o\")\\\n",
    "    .join(\\\n",
    "        spark.table(\"retail_demo.gold.dim_customer\").alias(\"c\"),\\\n",
    "        (col(\"o.customer_id\") == col(\"c.customer_id\"))\\\n",
    "        & (col(\"o.order_date\") >= col(\"c.start_ts\"))\\\n",
    "        & (col(\"o.order_date\") <  col(\"c.end_ts\")),\\\n",
    "        \"left\"\\\n",
    "    )\\\n",
    "    .join(\\\n",
    "        spark.table(\"retail_demo.gold.dim_product\").alias(\"p\"),\\\n",
    "        col(\"o.product_id\") == col(\"p.natural_key\"),\\\n",
    "        \"left\"\\\n",
    "    )\\\n",
    "    .select(\\\n",
    "        col(\"o.order_id\"),\\\n",
    "        col(\"o.order_ts\"),\\\n",
    "        col(\"o.order_date\"),\\\n",
    "        col(\"c.customer_sk\"),\\\n",
    "        col(\"p.product_sk\"),\\\n",
    "        col(\"o.quantity\"),\\\n",
    "        col(\"o.amount\")\\\n",
    "    )\n",
    "\n",
    "fact_df.write\\\n",
    "      .format(\"delta\")\\\n",
    "      .mode(\"overwrite\")\\\n",
    "      .partitionBy(\"order_date\")\\\n",
    "      .saveAsTable(\"retail_demo.gold.fact_orders\")\n"
   ]
  }
 ],
 "metadata": {
  "application/vnd.databricks.v1+notebook": {
   "computePreferences": null,
   "dashboards": [],
   "environmentMetadata": {
    "base_environment": "",
    "environment_version": "2"
   },
   "inputWidgetPreferences": null,
   "language": "python",
   "notebookMetadata": {
    "pythonIndentUnit": 4
   },
   "notebookName": "Gold Star Schema",
   "widgets": {}
  },
  "language_info": {
   "name": "python"
  }
 },
 "nbformat": 4,
 "nbformat_minor": 0
}
