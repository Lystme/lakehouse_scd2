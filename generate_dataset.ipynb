{
 "cells": [
  {
   "cell_type": "code",
   "execution_count": 0,
   "metadata": {
    "application/vnd.databricks.v1+cell": {
     "cellMetadata": {
      "byteLimit": 2048000,
      "rowLimit": 10000
     },
     "inputWidgets": {},
     "nuid": "8dd30066-6fe4-47ad-83a6-498c9484d29c",
     "showTitle": false,
     "tableResultSettingsMap": {},
     "title": ""
    }
   },
   "outputs": [],
   "source": [
    "# 1. one-time installs on this cluster only\n",
    "%pip install faker pandas pyarrow"
   ]
  },
  {
   "cell_type": "code",
   "execution_count": 0,
   "metadata": {
    "application/vnd.databricks.v1+cell": {
     "cellMetadata": {},
     "inputWidgets": {},
     "nuid": "e9c08a95-9b4d-49f0-ad76-b2e384c81060",
     "showTitle": false,
     "tableResultSettingsMap": {},
     "title": ""
    }
   },
   "outputs": [],
   "source": [
    "from faker import Faker\n",
    "import pandas as pd, random, os, shutil, numpy as np\n",
    "from datetime import datetime, timedelta\n",
    "\n",
    "fake = Faker()\n",
    "random.seed(42)\n",
    "np.random.seed(42)"
   ]
  },
  {
   "cell_type": "markdown",
   "metadata": {
    "application/vnd.databricks.v1+cell": {
     "cellMetadata": {},
     "inputWidgets": {},
     "nuid": "620bdb45-8520-4031-804e-0d6851e3e830",
     "showTitle": false,
     "tableResultSettingsMap": {},
     "title": ""
    }
   },
   "source": [
    "**CUSTOMER Dataset creation - Snapshot of January 2025 for SCD-type2 Implementation**"
   ]
  },
  {
   "cell_type": "code",
   "execution_count": 0,
   "metadata": {
    "application/vnd.databricks.v1+cell": {
     "cellMetadata": {
      "byteLimit": 2048000,
      "rowLimit": 10000
     },
     "inputWidgets": {},
     "nuid": "0a74c65b-c71e-4328-800b-c124db27ea8c",
     "showTitle": false,
     "tableResultSettingsMap": {},
     "title": ""
    }
   },
   "outputs": [],
   "source": [
    "N_CUSTOMERS = 100\n",
    "customers = []\n",
    "for cid in range(1, N_CUSTOMERS + 1):\n",
    "    customers.append(\n",
    "        dict(\n",
    "            customer_id       = cid,\n",
    "            first_name        = fake.first_name(),\n",
    "            last_name         = fake.last_name(),\n",
    "            country           = fake.country(),\n",
    "            marital_status    = random.choice([\"single\", \"married\", \"divorced\"]),\n",
    "            snapshot_ts       = \"2025-01-01\"\n",
    "        )\n",
    "    )\n",
    "df_cust_jan = pd.DataFrame(customers)\n",
    "df_cust_jan.display()"
   ]
  },
  {
   "cell_type": "markdown",
   "metadata": {
    "application/vnd.databricks.v1+cell": {
     "cellMetadata": {},
     "inputWidgets": {},
     "nuid": "2b514cbc-f978-4b38-928f-2c2198ef4351",
     "showTitle": false,
     "tableResultSettingsMap": {},
     "title": ""
    }
   },
   "source": [
    "**CUSTOMER Dataset creation - Snapshot of April 2025 for SCD-type2 Implementation**"
   ]
  },
  {
   "cell_type": "code",
   "execution_count": 0,
   "metadata": {
    "application/vnd.databricks.v1+cell": {
     "cellMetadata": {
      "byteLimit": 2048000,
      "rowLimit": 10000
     },
     "inputWidgets": {},
     "nuid": "cb3e826c-38a3-44a6-b4a5-7c8dd5da8ade",
     "showTitle": false,
     "tableResultSettingsMap": {},
     "title": ""
    }
   },
   "outputs": [],
   "source": [
    "df_cust_apr = df_cust_jan.copy()\n",
    "rows_to_change = df_cust_apr.sample(frac=0.10, random_state=42).index\n",
    "\n",
    "df_cust_apr.loc[rows_to_change, \"country\"]        = [\n",
    "    fake.country() for _ in range(len(rows_to_change))\n",
    "]\n",
    "df_cust_apr.loc[rows_to_change, \"marital_status\"] = [\n",
    "    random.choice([\"single\", \"married\", \"divorced\"]) for _ in range(len(rows_to_change))\n",
    "]\n",
    "df_cust_apr.loc[rows_to_change, \"loyalty_tier\"]   = [\n",
    "    random.choice([\"bronze\", \"silver\", \"gold\"]) for _ in range(len(rows_to_change))\n",
    "]\n",
    "df_cust_apr[\"snapshot_ts\"] = \"2025-04-01\"\n",
    "df_cust_apr.display()"
   ]
  },
  {
   "cell_type": "markdown",
   "metadata": {
    "application/vnd.databricks.v1+cell": {
     "cellMetadata": {},
     "inputWidgets": {},
     "nuid": "29cb0f9a-18b9-4d50-9003-42773e7fe306",
     "showTitle": false,
     "tableResultSettingsMap": {},
     "title": ""
    }
   },
   "source": [
    "**PRODUCTS Dataset Creation - Static table**"
   ]
  },
  {
   "cell_type": "code",
   "execution_count": 0,
   "metadata": {
    "application/vnd.databricks.v1+cell": {
     "cellMetadata": {
      "byteLimit": 2048000,
      "rowLimit": 10000
     },
     "inputWidgets": {},
     "nuid": "4ff2ad9f-6ec3-47c9-98e6-95982ee82a06",
     "showTitle": false,
     "tableResultSettingsMap": {},
     "title": ""
    }
   },
   "outputs": [],
   "source": [
    "N_PRODUCTS = 10\n",
    "products = {\n",
    "    'product_id': [1, 2, 3, 4, 5, 6, 7, 8, 9, 10],\n",
    "    'product_name': [\"tea_shillong\", \"tea_shillong\", \"tea_shillong\", \"tea_jasmin\", \"tea_jasmin\", \"tea_jasmin\", \"coffee_tamilnadu\", \"coffee_tamilnadu\", \"coffee_tamilnadu\", \"holiday_special\"],\n",
    "    'size': [200, 500, 1000, 200, 500, 1000, 200, 500, 1000, 1000],\n",
    "    'unit_price': [2.5, 5, 7, 2, 5, 8, 3, 7, 10, 15]\n",
    "}\n",
    "\n",
    "df_products = pd.DataFrame(products)\n",
    "display(df_products)"
   ]
  },
  {
   "cell_type": "markdown",
   "metadata": {
    "application/vnd.databricks.v1+cell": {
     "cellMetadata": {},
     "inputWidgets": {},
     "nuid": "870baa0f-2651-4724-89ca-02ab16ddc2b6",
     "showTitle": false,
     "tableResultSettingsMap": {},
     "title": ""
    }
   },
   "source": [
    "**ORDERS 2025 Dataset Creation**"
   ]
  },
  {
   "cell_type": "code",
   "execution_count": 0,
   "metadata": {
    "application/vnd.databricks.v1+cell": {
     "cellMetadata": {
      "byteLimit": 2048000,
      "rowLimit": 10000
     },
     "inputWidgets": {},
     "nuid": "2f13e092-fa49-4904-bae2-ea8041c0a60d",
     "showTitle": false,
     "tableResultSettingsMap": {},
     "title": ""
    }
   },
   "outputs": [],
   "source": [
    "def random_date(start, end):\n",
    "    delta = end - start\n",
    "    return start + timedelta(seconds=random.randint(0, int(delta.total_seconds())))\n",
    "\n",
    "start_ts = datetime(2025, 1, 1)\n",
    "end_ts   = datetime(2025, 4, 30, 23, 59, 59)\n",
    "\n",
    "N_ORDER = 3000\n",
    "N_PRODUCTS = 10\n",
    "orders = []\n",
    "for oid in range(1, N_ORDER + 1):\n",
    "    pid = random.randint(1, N_PRODUCTS)\n",
    "    qty = random.randint(1, 5)\n",
    "\n",
    "    # Get price from DataFrame\n",
    "    price = df_products[df_products['product_id'] == pid]['unit_price'].values[0]\n",
    "    orders.append(\n",
    "        dict(\n",
    "            order_id     = oid,\n",
    "            order_ts     = random_date(start_ts, end_ts).isoformat(sep=' ', timespec='seconds'),\n",
    "            customer_id  = random.randint(1, N_CUSTOMERS),\n",
    "            product_id   = pid,\n",
    "            quantity     = qty,\n",
    "            amount       = round(qty * price, 2)\n",
    "        )\n",
    "    )\n",
    "df_orders = pd.DataFrame(orders)\n",
    "df_orders[\"order_ts\"] = pd.to_datetime(df_orders[\"order_ts\"])\n",
    "df_orders.display()"
   ]
  },
  {
   "cell_type": "code",
   "execution_count": 0,
   "metadata": {
    "application/vnd.databricks.v1+cell": {
     "cellMetadata": {
      "byteLimit": 2048000,
      "rowLimit": 10000
     },
     "inputWidgets": {},
     "nuid": "a58f664f-95e0-45f2-bdbf-88ff5f45179c",
     "showTitle": false,
     "tableResultSettingsMap": {},
     "title": ""
    }
   },
   "outputs": [],
   "source": [
    "BASE = \"/Volumes/retail_demo/bronze/raw_files\"\n",
    "SNAP1 = f\"{BASE}/snap_2025_01\"\n",
    "SNAP2 = f\"{BASE}/snap_2025_04\"\n",
    "\n",
    "# (re)create folders to keep reruns idempotent\n",
    "for p in [SNAP1, SNAP2]:\n",
    "    shutil.rmtree(p, ignore_errors=True)\n",
    "    os.makedirs(p, exist_ok=True)\n",
    "\n",
    "df_cust_jan.to_csv(f\"{SNAP1}/customers_2025-01.csv\", index=False)\n",
    "df_cust_apr.to_csv(f\"{SNAP2}/customers_2025-04.csv\", index=False)\n",
    "df_products.to_csv(f\"{BASE}/products.csv\", index=False)\n",
    "df_orders.to_csv(f\"{BASE}/orders_2025.csv\", index=False)"
   ]
  }
 ],
 "metadata": {
  "application/vnd.databricks.v1+notebook": {
   "computePreferences": null,
   "dashboards": [],
   "environmentMetadata": {
    "base_environment": "",
    "environment_version": "2"
   },
   "inputWidgetPreferences": null,
   "language": "python",
   "notebookMetadata": {
    "pythonIndentUnit": 4
   },
   "notebookName": "generate_dataset",
   "widgets": {}
  },
  "language_info": {
   "name": "python"
  }
 },
 "nbformat": 4,
 "nbformat_minor": 0
}
