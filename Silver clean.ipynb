{
 "cells": [
  {
   "cell_type": "code",
   "execution_count": 0,
   "metadata": {
    "application/vnd.databricks.v1+cell": {
     "cellMetadata": {},
     "inputWidgets": {},
     "nuid": "a4ddf807-2ce5-40bd-b227-f95484eebc4e",
     "showTitle": false,
     "tableResultSettingsMap": {},
     "title": ""
    }
   },
   "outputs": [],
   "source": [
    "from pyspark.sql.functions import col, trim, lower, to_date, to_timestamp\n",
    "from pyspark.sql.functions import regexp_extract\n"
   ]
  },
  {
   "cell_type": "markdown",
   "metadata": {
    "application/vnd.databricks.v1+cell": {
     "cellMetadata": {},
     "inputWidgets": {},
     "nuid": "618a70a1-f263-459a-9c22-88d3c690e060",
     "showTitle": false,
     "tableResultSettingsMap": {},
     "title": ""
    }
   },
   "source": [
    "**Cleaning the Customers table**"
   ]
  },
  {
   "cell_type": "code",
   "execution_count": 0,
   "metadata": {
    "application/vnd.databricks.v1+cell": {
     "cellMetadata": {},
     "inputWidgets": {},
     "nuid": "808b8e49-827e-4235-b81b-a7de89e25116",
     "showTitle": false,
     "tableResultSettingsMap": {},
     "title": ""
    }
   },
   "outputs": [],
   "source": [
    "df_customer = spark\\\n",
    "    .table(\"retail_demo.bronze.customers_raw\")\\\n",
    "    .withColumn(\"country\", trim(col(\"country\")))\\\n",
    "    .withColumn(\"marital_status\", lower(trim(col(\"marital_status\"))))\\\n",
    "    .withColumn(\"snapshot_ts\", to_date(col(\"snapshot_ts\")))\\\n",
    "    .withColumn(\"ingest_ts\", current_timestamp())\n",
    "    .dropDuplicates([\"customer_id\", \"snapshot_ts\"])\\\n",
    "    .drop(\"_rescued_data\", \"_metadata\")\n",
    "\n",
    "df_customer.write\\\n",
    "    .format(\"delta\")\\\n",
    "    .mode(\"overwrite\")\\\n",
    "    .saveAsTable(\"retail_demo.silver.customers_snapshot\")\n"
   ]
  },
  {
   "cell_type": "markdown",
   "metadata": {
    "application/vnd.databricks.v1+cell": {
     "cellMetadata": {},
     "inputWidgets": {},
     "nuid": "4b68cee6-9305-43b9-ba6c-c92ec61c99ee",
     "showTitle": false,
     "tableResultSettingsMap": {},
     "title": ""
    }
   },
   "source": [
    "**Cleaning the Products table**"
   ]
  },
  {
   "cell_type": "code",
   "execution_count": 0,
   "metadata": {
    "application/vnd.databricks.v1+cell": {
     "cellMetadata": {},
     "inputWidgets": {},
     "nuid": "42eb4c89-ccfd-433d-b572-632073d9d63c",
     "showTitle": false,
     "tableResultSettingsMap": {},
     "title": ""
    }
   },
   "outputs": [],
   "source": [
    "prod_df = spark\\\n",
    "    .table(\"retail_demo.bronze.products_raw\")\\\n",
    "    .withColumn(\"product_name\", trim(lower(col(\"product_name\"))))\\\n",
    "    .withColumn(\"unit_price\", col(\"unit_price\").cast(\"decimal(10,2)\"))\\\n",
    "    .dropDuplicates([\"product_id\"])\n",
    "\n",
    "prod_df.write\\\n",
    "    .format(\"delta\")\\\n",
    "    .mode(\"overwrite\")\\\n",
    "    .saveAsTable(\"retail_demo.silver.products\")"
   ]
  },
  {
   "cell_type": "markdown",
   "metadata": {
    "application/vnd.databricks.v1+cell": {
     "cellMetadata": {},
     "inputWidgets": {},
     "nuid": "48a30050-5333-491f-92d2-0e86d189049e",
     "showTitle": false,
     "tableResultSettingsMap": {},
     "title": ""
    }
   },
   "source": [
    "**Cleaning the Orders table**"
   ]
  },
  {
   "cell_type": "code",
   "execution_count": 0,
   "metadata": {
    "application/vnd.databricks.v1+cell": {
     "cellMetadata": {},
     "inputWidgets": {},
     "nuid": "08c858c9-0c8f-4285-b6ea-228ad2602852",
     "showTitle": false,
     "tableResultSettingsMap": {},
     "title": ""
    }
   },
   "outputs": [],
   "source": [
    "df_orders = spark\\\n",
    "    .table(\"retail_demo.bronze.orders_raw\")\\\n",
    "    .withColumn(\"order_ts\", to_timestamp(col(\"order_ts\")))\\\n",
    "    .withColumn(\"quantity\", col(\"quantity\").cast(\"int\"))\\\n",
    "    .withColumn(\"amount\", col(\"amount\").cast(\"decimal(12,2)\"))\\\n",
    "    .dropDuplicates([\"order_id\"])\n",
    "\n",
    "df_orders.write\\\n",
    "    .format(\"delta\")\\\n",
    "    .mode(\"overwrite\")\\\n",
    "    .partitionBy(\"order_date\")\\\n",
    "    .saveAsTable(\"retail_demo.silver.orders\")"
   ]
  },
  {
   "cell_type": "markdown",
   "metadata": {
    "application/vnd.databricks.v1+cell": {
     "cellMetadata": {},
     "inputWidgets": {},
     "nuid": "ad795b60-b944-408a-b53d-9ddd49e36492",
     "showTitle": false,
     "tableResultSettingsMap": {},
     "title": ""
    }
   },
   "source": []
  }
 ],
 "metadata": {
  "application/vnd.databricks.v1+notebook": {
   "computePreferences": null,
   "dashboards": [],
   "environmentMetadata": {
    "base_environment": "",
    "environment_version": "2"
   },
   "inputWidgetPreferences": null,
   "language": "python",
   "notebookMetadata": {
    "pythonIndentUnit": 4
   },
   "notebookName": "Silver clean",
   "widgets": {}
  },
  "language_info": {
   "name": "python"
  }
 },
 "nbformat": 4,
 "nbformat_minor": 0
}
