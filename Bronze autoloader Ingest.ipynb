{
 "cells": [
  {
   "cell_type": "code",
   "execution_count": 0,
   "metadata": {
    "application/vnd.databricks.v1+cell": {
     "cellMetadata": {
      "byteLimit": 2048000,
      "rowLimit": 10000
     },
     "inputWidgets": {},
     "nuid": "46b86324-ddd5-4eb3-9b22-0f705542033a",
     "showTitle": false,
     "tableResultSettingsMap": {},
     "title": ""
    }
   },
   "outputs": [],
   "source": [
    "base_path = \"/Volumes/retail_demo/bronze/raw_files\"\n",
    "\n",
    "# ---------- Customers (snapshots) ----------\n",
    "\n",
    "df_customer = spark.readStream.format(\"cloud_files\")\\\n",
    "        .option(\"cloudFiles.format\", \"csv\")\\\n",
    "        .option(\"schemaLocation\", \"/Volumes/retail_demo/bronze/_schemas/customers\")\\\n",
    "        .option(\"header\", \"true\")\\\n",
    "        .load(f\"{base_path}/snap_*/customers_*.csv\")\n",
    "\n",
    "df_customer.writeStream\\\n",
    "        .format(\"delta\")\\\n",
    "        .option(\"checkpointLocation\", \"/Volumes/retail_demo/bronze/_checkpoints/customers\")\\\n",
    "        .table(\"retail_demo.bronze.customers_raw\")\n",
    "\n",
    "\n",
    "# ---------- Products ----------\n",
    "\n",
    "df_products = spark.readStream.format(\"cloud_files\") \\\n",
    "        .option(\"cloudFiles.format\", \"csv\")\\\n",
    "        .option(\"schemaLocation\", \"/Volumes/retail_demo/bronze/_schemas/products\")\\\n",
    "        .option(\"header\", \"true\")\\\n",
    "        .load(f\"{base_path}/products.csv\")\n",
    "\n",
    "df_customer.writeStream\\\n",
    "        .format(\"delta\")\\\n",
    "        .option(\"checkpointLocation\", \"/Volumes/retail_demo/bronze/_checkpoints/products\")\\\n",
    "        .table(\"retail_demo.bronze.products_raw\")\n",
    "\n",
    "\n",
    "# ---------- Orders ----------\n",
    "\n",
    "df_orders = spark.readStream.format(\"cloud_files\") \\\n",
    "        .option(\"cloudFiles.format\", \"csv\")\\\n",
    "        .option(\"schemaLocation\", \"/Volumes/retail_demo/bronze/_schemas/orders\")\\\n",
    "        .option(\"header\", \"true\")\\\n",
    "        .load(f\"{base_path}/orders_*.csv\")\n",
    "\n",
    "df_orders.writeStream\\\n",
    "        .format(\"delta\")\\\n",
    "        .option(\"checkpointLocation\", \"/Volumes/retail_demo/bronze/_checkpoints/orders\")\\\n",
    "        .table(\"retail_demo.bronze.orders_raw\")\n"
   ]
  }
 ],
 "metadata": {
  "application/vnd.databricks.v1+notebook": {
   "computePreferences": null,
   "dashboards": [],
   "environmentMetadata": {
    "base_environment": "",
    "environment_version": "2"
   },
   "inputWidgetPreferences": null,
   "language": "python",
   "notebookMetadata": {
    "pythonIndentUnit": 4
   },
   "notebookName": "Bronze autoloader Ingest",
   "widgets": {}
  },
  "language_info": {
   "name": "python"
  }
 },
 "nbformat": 4,
 "nbformat_minor": 0
}
